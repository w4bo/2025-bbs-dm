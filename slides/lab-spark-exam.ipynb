{
  "cells": [
    {
      "cell_type": "markdown",
      "metadata": {
        "id": "Gy2WmCf_LNh0"
      },
      "source": [
        "# 2025-BBS-DM EXAM - Big Data pipeline\n",
        "\n",
        "Use this notebook to create a Big Data pipeline with PySpark according to the instructions below.\n",
        "\n",
        "It is optional to conclude this part by executing some OLAP queries with the tool of your choice (pandas+matplotlib, PowerBI, Spark, etc.).\n",
        "\n",
        "## Evaluation\n",
        "\n",
        "Things considered in the evaluation:\n",
        "  1. The correctness of the logic of the workflow\n",
        "  2. The correctness of the code (syntax errors, etc.)\n",
        "  3. The performance of the code (i.e., no unnecessary operations, getting rid of useless columns as soon as possible)\n",
        "  4. The addition of comments that explain the logic of the code\n",
        "\n",
        "The execution of queries (with comments) on the final result can give bonus points."
      ]
    },
    {
      "cell_type": "markdown",
      "metadata": {
        "id": "8biYjnVtmZeR"
      },
      "source": [
        "# MovieLens\n",
        "\n",
        "[MovieLens](https://grouplens.org/datasets/movielens/) is a dataset about movies and ratings. You are working with two files:\n",
        "\n",
        "- ml-movies.csv: contains details about the movies\n",
        "  - Each movie is identified by ```movieId```\n",
        "  - Each movie is associated to one or more genres, which are separated by semi-colons (e.g., \"Adventure;Children;Fantasy\")\n",
        "- ml-ratings-1m.csv: contains 1 million ratings (in a range from 1 to 5) given by users to movies\n",
        "  - Each rating is identified by ```movieId``` and ```userId```\n",
        "  - Each rating is associated to a timestamp (e.g., 1256677221)\n",
        "\n",
        "![image.png](data:image/png;base64,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)\n",
        "\n",
        "Your goal is to create a single file representing the following cube.\n",
        "\n",
        "![image.png](data:image/png;base64,iVBORw0KGgoAAAANSUhEUgAAAIsAAACkCAYAAACn490cAAAT8UlEQVR4nO2de1hVdbrHP8AGSRDNKyggGqKFGhcRSc0gaypvCBw54tHRY8eJnE6pWGnDeBxn4pSkOXO8TA3laGIUMJpaZgndFJFriIaEgoKAiskIBOiGff7Ye3NxTBeLzd5rw+/zPPt5YK39u+x3fff7/i7vXstCrVZrEAgkYGnqDgjMByEWgWSEWASSEWIRSEaIRSAZIRaBZIRYBJIRYhFI5u5iqc8hxsuNDZktB8iJ8cJNd6A6OQKVSoVKpeL+sI8o1R4lOUL1r8frc4iZHMb2zRGoVG3rFNyRK3uZq7OhyvN3bF83mUX7K7TnatNZ56m3sScb8/RF5uK58Qv2ztWX24j2VC3p6yazaPtG5qpUeG7M0x3zbLlOnvpK7sLdxXKfN5G/f4S4z3RXtr6AwwfdeXPxBKqTI/A6vRK1Wo1aXUOK7xZWfFQK9CMkXq07XkWczcvs1Aujbh9v1K5ErS4hekLH7ddjqE1nXeBL9Ekq1dox1ZMjfypqPferrfh8qbNx+e84Pl8vCji75iXK1qtRq8vZ7RFLrF5gVBP/f7Bereb06pGkr/sVW32+1F2ncn53fD730ss9w1C/oDAeifuMTKC+4DAHneYR4FJP8dkzlK2fpFNmH/yi08k8exmA+pwYvFQqVKqBzPvon3x/XutzsAvmzcVCJffk5/PkEUXUHCft/4Nn8epr7q3n0uMJddF5j6ELOVB1imKdJkbH7GX1eIDBPD7vEbIKr+oq7UfE6//BeG0lnM9LJz7URXf9hrLwQBWn9JX8Avces/R7mtW/OcZnmfUUHP6ap16dhwsAdgTHF+uUqX2VRE+gPieGgLlq/qbzOBkbHuqgpQS1xQVc8fVg0C+9YXQM2W3srr68C72upDOamOw2dagvs+selUgY4N7HmKemcezjnRz+ejJPT9AeGzF6OPte3sntQ4/G4lNcmDCaIaANWwlnOvopejz2ns8wPWstH+jDwpUD/K8+DPUeyXjahhc59GbkeIiN3U9HalFJedN9Y55i2udBZK3NY43uWL+QODLOBuCnWq874sy6EyVEP72al//gxwhVBPSZTmTIvT3L/oyLHD97hfzS65wtv4HbIHv8Rw1iovtAZvg4o7Lq/pO2223gMtmb0z4qrb1Hv8JfXnMnDcDen/WpbzN3qEvLxRsQkUTurjlYSW7NHv/1qbw9dygurZWQlHt3D2UhKUWhPoeY6X/igQ8TmeciuUf3pORKLc/uOIa6uZk5fsPxcuuPu2Nfyq7VkXnuKkdPVVBUeYO//3YqviMHGK5hBSHNBqVE5MdgHVugG4+YCLVarbnXq+qjeZo+wfGaYgnvlfr6e+pZzcAlH2g27s/T3I3dX/+ocVy6R7Pl4CmDta2Ul1QbvLt9uUbVd77mFRPb4O5iqcnQbBiLBud1mhMGbDT/QpWm36Jdmh/Krt/VSHoqrv+scVy6R5NeeNnkF9g4Nris2TMbDeheAxZo3v/B9DaQFoYM6cmamnnsfw4T/sgIXpo5VnK5fScvsGZPJplvzMLWWnp0ViLmagOjjxwPZZdha23VISMBBE8cziSPwcQdLeyinhkPc7WB0cVysqiKx8cNlVV22kOOnCyqMnCPjI+52sDoYjl29jJeI/rLKus1oj/pP1699xsVjrnawOhiKblSi5ebvGmwl9sAiipvGLhHxsdcbWB0sbgNtqfgUrWsskWVN3AeYGfgHhkfc7WB0cXi7z6I3JKfZJXNLb6G/6hf3DExG8zVBkYXi8/IAXx9ulJW2a/PVDLRfaCBe2R8zNUGRhdLqP9wSq7W8OGx8x0q990Pl0lMK+bX09y7qGfGw1xtYHSxqKws+ftvp/JCXBpl1+oklaltuMWSrd+wZYk/Ax1su7iHXY+52sAk27kPD+/PmuBxTI0+RGJa8V3f+9XpCsat/Adz/FwJneRmpB52PeZoA6Mv97flWMEVfr31W6aMGcIcP1e8RgzA3dFBt+NaxdFT5RzMKmXLkonM8DHgdreCMCcbmFQsoHWve749xzdnLvP9hesUXKpmaP/euDva8+R4Z557cgz97GxM2cUuR2+D1PxKMs9XUXKlluGD7PFy689E94H85gll2MDkYrmdhltqvvrhIgDTxrhyn42k/KxuwfW6BtLPlWNpaUHQg8MVl/SlrN4ANiorrHVGalSrTdwb49J4S/t5e6msFCcUUKBYLC0s6GWt9SaNt5pM3Bvj0qjWft5eKmV6U8WJBbTfLGg1Xk+hRSwKzddRtlhu9bQwpPcsQiyS0X+zep5naR2zKBFlikXVQ8cses9iLcYskrHpgZ5Fo2n9vDbCs0inJ45ZGtVqbooBbsdpOxvqKd6lbcgVY5YO0MtahaWFBdBzvEvbECTWWTqAtZVlj5sRtZ0J6b4nikORYoHWQV5PmREpfY0FFCyWlulzj/EsujCk0MEtKFks1j1rRtTqWZQ5XgEli6WH7Q+1jFmEZ+k4vcSYRXEoVywts6HuH4ZuNTW1SU8QYukwbQe4t5qaTdybrqXxVhMajTZhUan7QqBgsehnBc3Nmm4/btF/PksLC8XuC4GCxdKrTXrlzW4+I2rdbW79zEpEsT1rl17Z7T2LfvVWuSEIFCwW6DkzoraeRcmYh1i6+YzIHGZCoHCxtCRBdXvPoux0Sj2KFktP2R9q3RcSYxbZ9IQ0haY2SwPCs3SCPrY2WFoqNLnDQFhagI2VViRK/BViWwzq98qu1ZF0ooQjeeWcq6yhqqaB6rqbhmxCcBf62dnQz64XDwzpw6MPDiF88gjcHR0MVr9Bfhivbmrmz5/9wJv7TxE8cThz/Fxxd3TAsV9vRfz6v6dQXXeTqpoGiipu8Pn3l/jwu3MsmPoA68O9DXJH7k6LpeBSNc/uOI6ttRXvL38Ut8H2ne6UwDBU3Wgg8t3j5F+8Tlzk5E7fuLBTYim4VM2U6E95LdSLqNnjOtURQdeRmFbMC3Fp7HlxGtMecpRdj2yx6B9WEDrJTQjFDDiYdZEX4k6Qu3E29rbWsuqQPfze8ukZbK2thFDMhJm+rjzm6cRre7Nl1yFLLGXX6tj4ST7vL39UdsMC47N5sT/7My6Sdf6arPKyxJJ0ooTgicPFYNbM6Gdnw7Lpo4n/rmP339UjSyxH8sqZ4+cqq0GBaZnr78bnuZdklZW1KHeussagiz2d5zLvv3qQ/9Q9zRYLK0aNHcnuyCn4D+7I9+Fn8j9JJ8PRi0UT7+/A00zNB3cnB9lPFZHlWapqGnDs11tWg13JYK+x5G+ZzcXfe/JkZRGLEwv4590K1JWw540PmR5/Qft/YxXHj19gc3YltcbosAmwtbZCLTOnWZZnqa67qciVWSsbGwYNG8TgYbbMe6iQ5NpGGu9W4GYd35+r47r+oWK9XFn2v4tZZoS+miPK3hPvIE03b3L10lUaK88Se1LN1HlODAB+PnOC/95RyAflt2i0smZa4MPEh6l4e+0JNv4E7P8Siwx3flg/kPdeOcHRqdPJWmjL+68e5DX7kbzYfIl1eTexc3UhYeXjTHe2pOF8NtFb8/nLBTV2rkNY3Oc6e+08yX3ZG4cfT7LiLwW8X36LRisH/rrh31jmYWrrdB5lb3N2kCu5+Yx98RNcN5Xj++wzfDDLEStA1deRF18KoSZxCT+tcKLq6Fn2XfPkzTcmsbo/+MyZjubP0xhzpzpLahkW/AwVGzx5+nop0d+UQWMZe+Py2HP/KE5uX0DRfw2mtkLvw67w8c58vhjlQ3nCUjQJ3UMo0M3E4jTRh4r3gnh3ZD1//qqYcl0ajKq3mlOffsmU38Tj8fZFTmuaUUsM24M9nHlyfH/uf9CNx4douHKthn9eKSXxR2sWBo5j/KBe3P/gGBaM0z+pw56H3O0p+y6XRe+kk36xge6SjdOtxAJg6TCCRQtHEXD2LH9K/Qm4xoFtx4iqGcbeTRFcffNBpnei/vr6mzRqNNxstmizbK6hqUm/a9Ib31/PoeSV0UytLuHp1f9g3THzf64jdEOxANh4jOPlAEve+0cOGbVqfqpR06evHf1VteR+W8EJ/Rt72zPMDmpr6qjuyNd/wGCecG7gb59nk3e5jqqcPDZntRlKW/bC0ceP1cvGsuz+eo5ekPc8RKXRLcUCfZj0qxE8db2U3x++yYwZrvQ9foKBSw6x06IvE/Rv6+XIU1MGUP1VGgOjvkXyo7XtRrJs0Sh8zxXw8G8/5pFDap4crw9DV0lYvxPrsDisns/koOsY/ja7eyxgytp1VoXvRJO4tCv6Y6ZUkfiHg7zU25vcqIdR+lMcLcLiUCcs7nC5bupZupoaTnyYyse516iru86ZT08SnW/FM14uihdKZ+hW6yzGQ4W9xQ3WxO5nXoMG6z59ePbfH+H1QHlPgTcXhFhkcR9jw+dQFG7qfhgXEYYEkhFiEUhGiEUgGdljFouwOEP2Q2AGyBaLWGcxX+R+0UUYEkhGiEUgGSEWgWTEopwZUn+z0/cykIXwLALJCLEIJCPEIpCMQsYshexZEU1yaeuRgOcTiArqWC0pb4VzwGkDmyO6SYa0wlCQZ3Eh5PUEkhITSHo9mEvbNpFyjxKF8VGsiG/NbwtalSCE0oUoSCxt8PBlgks5FZLzHAV6dicfYXfykS6puxNh6LbQEfAcSasC/zUUpGwiNMebpFWBFMZHsUZXwDUkmGHJFfgkruRfok1hFpn4Eqmv4q1wtqbpzrkEE7N5PrTUFU1osj/LE1fCW+FkeycQFVTInhXvwCxfMrft4yLgGnJbn7al6/odTEhZFkTGssDMndLu5C/YlfSl7j8LFoY8YdD6O+FZPFiwWRc2EjcQUnaIPYUQNCsYMrJakp9TctIJ8A6ElE2sSR7K8kRtmUiySGtXXynJa8MJDQsndDtEbp6P/toFrdK3k8By5318kgIeEbHEhLjgGrKBpDsJjlKSD0CkLqyRfFAb1gr3smJbeWvI865oN1YyV/YdOc7R43kMcxrCMKchHD2ex74jxw3aRufCUMom7cUNiya5tJSKMrQhhCwyCgFSyS4LZnYQFFaW4xoys+WiekTMIKBdZfoxy3MElOrL6yjcy4owrZC2psGlSinxyYWQSJ3g2oa1sgouBsxo9SJBMwlx6ZQVTE5KWh6Z+cU4D3Vs98rMLyYlLc9g7cgPQymbCD3gRExiAh5oQ4X2BlQe+PnB9sxC/DIPcclvmfZ8RSnDvKX4+UCins8h9EAqC1YFaoWytoJZiQkEoR3UbpfdaZ1onWZ2ogblERQwnqCA8V3ejmzPUlhZDs6OulCRSnabmOIRMYNhGQf5JGMos3TjhCBvf9IO7G0JT4Xxh24LQ20ImklI2Q5iU9B6AhcnnLWlyMjoXMzwmODbGpIAUg52izBkDGSLxSNiBgFpO3RhKIf2MSUQH+d00py9W8cSQStZ7ryPNbpwsh3f28JQu9pZMMuftG2bSAmaSQj6cu9Q4dwaM7QXPprQsHtPs1sLzScypJytun6E5jiZfRgyFqb7kVnhXlbcNpA1DanEhuXceVamUDq7kdg74j3z+pFZyoF94OdrYqHowmGAt9kIxZQYb7m/cC8r1mrXPADtuoxJVltTiQ3b0TpecgkmZnOgCfphfhhPLB7z2Zw432jN/TKBRCUKcchBmcv9AkUi27NkF8u7S7NAHj4jBpi6C/LFooTOC4yLCEMCyQixCCQjxCKQjBCLQDJmIZbb0ycFpsEsxCJQBp1bwW23hK9NbQzizmmQLTkv3q1Z+23/1/79HGzTLcXr0jQL75A+KfZx2rN993627dp3x3PPLwomcuEcg7TTCbGkErs2iwmvJ7C5zRZPylvhbOU5knRL6oXxUax5y5GkVfdeYk/blsPyxASiSCU27BB7CgNZEBFLDFFsZ5nI3P8FIhfOwd6uN7uSvmh3fFHoEwbNw+1EplwOaQEzSGp3/QqpKPNneZuNOY+IGQSE5ZDCvcUS8LzeawTiE7CD7DIw+ba0mbAw5AmsVCqOfKPNV3zyUR8iZht2D0y2WLpjeqK5EzE7kH4O2ifMPfOYr8Hrl58pN8EXkt9hT7tJigdOzulsfSu15UjbfBFnJxfScvTn2qdiCgzDM4/5dolQoDNhyGM+m5+vIHRtOMlAywB31QYqVkQTGrZD+742+SLakLRDd86fgF/Oq2zf1ARfWCsGuKZG3LvfDOlxaZUC80OIRSAZIRaBZIRYBJJRyM18BB3hPhsLk7QrPItAMkIsAskIsQgkI8QikIwQi0AyQiwCyQixCCQjxCKQjBCLQDJCLALJCLEIJCPEIpCMEItAMkIsAskIsQgkI8QikIwQi0AyssRib2tNbcMtQ/dFoHBkiWWggy2V1fWG7ovACKibmmWXlSWWB4b0oajihuxGBaajqPIG7o4OssrKEsujDw7h8+8vyWpQYFoO55QxzdNRVllZYgmfPIIPvztH1Y0GWY0KTIO6qZm4lEIipoyUVV6WWNwdHVgw9QEi3zXsM/gEXcsfk3IZPbQv0x4yomcBWB/uTf7F6ySmFcutQmBEckuu8dcjBWxdOkl2HbLFYmttRVzkZF6IS+Or0xWyOyDoenJLrjF/81dsWeLPQAdb2fXIuuVGW74+U8nS7ceY6etCzIIJ2Ntad6Y6gQFRNzXzx6Rc/nqkgC1L/Amd5Nap+jotFoDahlu8tjebQ9llLA3yIHjicNydHLC1tups1YIOom5qpqjyBodzyohLKWT00L5sXTqpUx5Fj0HEoifr/DXivzvP57mXKKq80akFIIF83B0dmObpSMSUkbIHs3fCoGIRdG/ERqJAMkIsAskIsQgkI8QikIwQi0AyQiwCyQixCCQjxCKQzP8DG5PCt1jFjI4AAAAASUVORK5CYII=)\n",
        "\n",
        "![image.png](data:image/png;base64,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)\n",
        "\n",
        "The procedure to create the cube is the following.\n",
        "\n",
        "1. On the ml-movies.csv file:\n",
        "  - Each line represents a movie, and each movie has many genres. We want to \"explode\" the genres, in order to have the same movie repeated for each genre (i.e., the equivalent of the ```flatMap``` on RDDs). To do so:\n",
        "    - Use the ```split(df['mycolumn'],\";\")``` function to split a column on the pipe character; it converts from one String to an array of Strings\n",
        "    - Use the ```explode_outer()``` function on the result to produce one line per value\n",
        "    - Replace null genres with the \"Undetermined\" value\n",
        "2. On the ml-ratings-1m.csv:\n",
        "  - Convert the decimal character from comma to dot (as done during class)\n",
        "  - Convert the timestamp to the \"yyyy\" format; to do so, use the ```from_unixtime(dfRatings['my_column'],\"mydateformat\")``` function to convert from timestamp to the format of your choice\n",
        "3. Join the two datasets on the ```movieId```\n",
        "4. Aggregate the data by genre and year to calculate the average rating and count the records; then, sort the results by year and genre using the ```orderBy()``` method\n",
        "5. Save the result to a file\n",
        "6. Optional queries:\n",
        "  - the monthly trends of average ratings, one line per genre;\n",
        "  - a bar chart showing, for each genre, the number of ratings and/or the average rating\n",
        "\n",
        "In the process, exclude the fields that are not needed anymore as early as possible (the less data you carry, the better).\n",
        "\n",
        "Your output should resemble the following:\n",
        "\n",
        "```\n",
        "+------------+----+------------------+-----+\n",
        "|       genre|year|         avgRating|count|\n",
        "+------------+----+------------------+-----+\n",
        "|      Action|1996| 3.428543180582332|20229|\n",
        "|   Adventure|1996|3.4985317672183665|14984|\n",
        "|   Animation|1996|3.7092354069608113| 3649|\n",
        "|    Children|1996| 3.517741935483871| 6820|\n",
        "|      Comedy|1996| 3.404184793867827|24135|\n",
        "|       Crime|1996|3.6160085203998036|12206|\n",
        "| Documentary|1996|3.8345864661654137|  266|\n",
        "|       Drama|1996| 3.700375201000536|27985|\n",
        "|     Fantasy|1996|3.4779989045097683| 5477|\n",
        "|   Film-Noir|1996|3.5616438356164384|  146|\n",
        "|      Horror|1996| 3.516431924882629| 2769|\n",
        "|        IMAX|1996| 3.888088376560999| 2082|\n",
        "|     Musical|1996|3.6666666666666665| 3435|\n",
        "|     Mystery|1996|3.6967410983705493| 3314|\n",
        "|     Romance|1996|3.6002949852507373|14238|\n",
        "|      Sci-Fi|1996|3.4102089394340123| 7562|\n",
        "|    Thriller|1996|3.5943095072866065|21615|\n",
        "|Undetermined|1996|3.5129533678756477|  386|\n",
        "|         War|1996|3.9569221628045157| 3366|\n",
        "|     Western|1996| 3.563403552251136| 2421|\n",
        "+------------+----+------------------+-----+\n",
        "```"
      ]
    },
    {
      "cell_type": "markdown",
      "metadata": {},
      "source": [
        "# Initialize Spark\n",
        "\n",
        "This must be done every time you run the notebook."
      ]
    },
    {
      "cell_type": "code",
      "execution_count": null,
      "metadata": {},
      "outputs": [],
      "source": [
        "import findspark\n",
        "findspark.init()\n",
        "findspark.find() # Should return the directory of the Spark home"
      ]
    },
    {
      "cell_type": "code",
      "execution_count": null,
      "metadata": {},
      "outputs": [],
      "source": [
        "import os\n",
        "from pyspark.sql import SparkSession\n",
        "\n",
        "os.environ[\"SPARK_LOCAL_HOSTNAME\"] = \"localhost\"\n",
        "\n",
        "spark = SparkSession.builder\\\n",
        "        .master(\"local\")\\\n",
        "        .appName(\"Local Spark\")\\\n",
        "        .config('spark.ui.port', '4050')\\\n",
        "        .getOrCreate()\n",
        "sc = spark.sparkContext\n",
        "\n",
        "sc"
      ]
    },
    {
      "cell_type": "code",
      "execution_count": null,
      "metadata": {
        "id": "YKrMQw-2GGci"
      },
      "outputs": [],
      "source": [
        "from pyspark.sql.functions import *\n",
        "import datetime"
      ]
    }
  ],
  "metadata": {
    "colab": {
      "collapsed_sections": [
        "EsElqAaj4Sse"
      ],
      "provenance": []
    },
    "kernelspec": {
      "display_name": "Python 3",
      "name": "python3"
    },
    "language_info": {
      "codemirror_mode": {
        "name": "ipython",
        "version": 3
      },
      "file_extension": ".py",
      "mimetype": "text/x-python",
      "name": "python",
      "nbconvert_exporter": "python",
      "pygments_lexer": "ipython3",
      "version": "3.11.9"
    }
  },
  "nbformat": 4,
  "nbformat_minor": 0
}
